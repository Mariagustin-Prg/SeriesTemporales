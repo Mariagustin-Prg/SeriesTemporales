{
 "cells": [
  {
   "cell_type": "markdown",
   "metadata": {},
   "source": [
    "<h1>Notebook \"Generador de Series Temporales\"</h1>"
   ]
  },
  {
   "cell_type": "markdown",
   "metadata": {},
   "source": [
    "1. ¿Qué librerías considero necesarias para comenzar?\n",
    "\n",
    "<i>Numpy, Pandas, Matplotlib, Datetime, entre otras, pero esas son la primeras.</i>"
   ]
  },
  {
   "cell_type": "code",
   "execution_count": 1,
   "metadata": {},
   "outputs": [],
   "source": [
    "import numpy as np\n",
    "import pandas as pd\n",
    "import matplotlib.pyplot as plt\n",
    "from datetime import date"
   ]
  },
  {
   "cell_type": "markdown",
   "metadata": {},
   "source": [
    "Vamos a organizar que tipo de información que va a producir el generador.\n",
    "\n",
    "Para el comenzar, intentaremos construir un generador de ventas. ¿Qué tipo de ventas? En este caso, ventas de un producto, suponiendo que el crecimiento de la serie es lineal."
   ]
  },
  {
   "cell_type": "code",
   "execution_count": 31,
   "metadata": {},
   "outputs": [],
   "source": [
    "# Creamos una clase Generador que producirá una serie temporal básica, en pricipio.\n",
    "\n",
    "class Generador:\n",
    "    \n",
    "    # Definimos la función de iniciación de la clase.\n",
    "    # No espera argumentos y no retorna nada.\n",
    "    def __init__(self) -> None:\n",
    "\n",
    "        self.hoy = date.today() # <------ Define la fecha del día en que se declara el objeto.\n",
    "\n",
    "        self.fecha_inicial = None # <--------- Define la fecha inicial como None, esperando a ser registrada con una función.\n",
    "\n",
    "                 # ---------------- #\n",
    "                 # ---------------- #\n",
    "\n",
    "    # Contruimos la función de la clase, que instancia la fecha de inicio de la serie temporal.\n",
    "    def set_inicio(self, anio: int, mes: int, dia: int) -> None:\n",
    "        '''\n",
    "        Con esta función podemos declarar cual es la fecha inicial de la serie que posteriormentese podrá generar.\n",
    "        Es indispensable utilizarla antes de llamar a la función de creación de la serie.\n",
    "\n",
    "        >>> Parametros \n",
    "            anio -> Año en que inicia la serie a generar.\n",
    "            mes -> Mes en que inicia la serie a generar.\n",
    "            dia -> Dia en que inicia la serie a generar.\n",
    "\n",
    "        >>> Excepciones\n",
    "            Al ingresar parámetros que no pertenezcan a una fecha real, la función retornará una excepción, indicando cúal de los argumentos es inválido para la correcta ejecución de la función.\n",
    "        '''\n",
    "        # En caso de que los argumentos ingresados por el usuario sean válidos, declara la fecha\n",
    "        # inicial como una date con los argumentos pasados.\n",
    "        try:\n",
    "            self.fecha_inicial = date(anio, mes, dia) # <------ Setea la fecha de inicio de la serie temporal\n",
    "\n",
    "            if self.fecha_inicial >= self.hoy : # <--- Si la fecha ingresada es válida pero es el mismo día que hoy o después:\n",
    "                raise Exception(\"La fecha ingresada aún no sucede.\") # <---- Retorna un error, indicando que la fecha ingresada aún no sucedió.\n",
    "\n",
    "\n",
    "        # Si los valores ingreasados son inválidos para crear una objeto 'date', retorna el error.\n",
    "        except ValueError as e:\n",
    "            raise e\n",
    "\n",
    "\n",
    "    def create_serie_de_tiempo(self, test= True) -> None:\n",
    "\n",
    "        # Definimos la fecha en la que comienza la serie:\n",
    "        anio1 = self.fecha_inicial.year\n",
    "        mes1 = self.fecha_inicial.month\n",
    "        dia1 = self.fecha_inicial.day\n",
    "\n",
    "        # Definimos la fecha actual, en la cual finaliza la serie:\n",
    "        anio2 = self.hoy.year\n",
    "        mes2 = self.hoy.month\n",
    "        dia2 = self.hoy.day\n",
    "\n",
    "        # Declaramos la lista de fechas del objeto:\n",
    "        self.lista_fechas = []\n",
    "\n",
    "        # En caso de que se desee testear las fechas de inicio y final de la serie:\n",
    "        if test:\n",
    "            # Imprime por pantalla la fecha de inicio y fin de la serie temporal.\n",
    "            print(f\"Fecha Inicial= {anio1}-{mes1}-{dia1}; Fecha Final= {anio2}-{mes2}-{dia2}\")\n",
    "            return None\n",
    "\n",
    "        # Declaramos la fecha indicador que regula el bucle.\n",
    "        fecha = self.fecha_inicial\n",
    "\n",
    "        # Iniciamos un bucle while que se mantenga mientras el año inicial no sea mayor al año actual.\n",
    "        while anio1 <= anio2:\n",
    "            \n",
    "            # Bucle for que itera entre 1 y 12 (los índice para los meses del año)\n",
    "            for mes in range(1, 13):\n",
    "               \n",
    "                # Como primera vez, verificamos que el mes que iteramos sea mayor o igual al mes de inicio.\n",
    "                if mes < mes1:\n",
    "                    continue\n",
    "                \n",
    "                # Cuando entramos al primer mes de la serie\n",
    "                else: \n",
    "\n",
    "                    # Bucle que itera los días del mes\n",
    "                    for dia in range(1, 32):\n",
    "\n",
    "                        # Si el dia es menor al dia de inicio de la serie, lo descarta y continua hasta encontrar el día inicial\n",
    "                        if dia1 > dia: continue\n",
    "\n",
    "                        else: pass\n",
    "\n",
    "                        # Indicamos un intento para capturar y tratar el error de valor, cuando el día no corresponda al mes. (Ej: 31 de Febrero)\n",
    "                        try:\n",
    "                            # Cambiamos el indicador\n",
    "                            fecha = date(anio1, mes, dia)\n",
    "                            # Solamente si el indicador es igual a la fecha actual, detiene el bucle.\n",
    "                            if fecha == self.hoy: break\n",
    "                            # En otro caso, agrega a la lista la fecha indicida\n",
    "                            self.lista_fechas.append(fecha)\n",
    "                        \n",
    "                        # Capturamos el error, sabiendo que esto significa que el mes termina.\n",
    "                        except ValueError:\n",
    "                            # Establecemos el dia inicial como 1, ya que no estamos buscando el dia inicial de la serie\n",
    "                            dia1 = 1\n",
    "                            # Detenemos el bucle del día para pasar al siguiente mes.\n",
    "                            break\n",
    "                    # Establecemos esta variable como 1, ya que no estamos buscando el mes inicial\n",
    "                    mes1 = 1\n",
    "\n",
    "                # Solamente si el indicador es igual a la fecha actual, detiene el bucle.\n",
    "                if fecha == self.hoy: break\n",
    "\n",
    "\n",
    "            # Solamente si el indicador es igual a la fecha actual, detiene el bucle.\n",
    "            if fecha == self.hoy: break\n",
    "\n",
    "            # Establecemos la variable para que comience un nuevo año.\n",
    "            anio1 += 1\n",
    "            \n",
    "\n",
    "    "
   ]
  },
  {
   "cell_type": "markdown",
   "metadata": {},
   "source": [
    "Probemos la clase:"
   ]
  },
  {
   "cell_type": "code",
   "execution_count": 34,
   "metadata": {},
   "outputs": [],
   "source": [
    "gen = Generador()"
   ]
  },
  {
   "cell_type": "markdown",
   "metadata": {},
   "source": [
    "Sus funciones:"
   ]
  },
  {
   "cell_type": "code",
   "execution_count": 35,
   "metadata": {},
   "outputs": [],
   "source": [
    "gen.set_inicio(2024, 6, 14)"
   ]
  },
  {
   "cell_type": "code",
   "execution_count": 37,
   "metadata": {},
   "outputs": [],
   "source": [
    "gen.create_serie_de_tiempo(test= False)"
   ]
  },
  {
   "cell_type": "markdown",
   "metadata": {},
   "source": [
    "Creemos una función para la serie temporal:"
   ]
  },
  {
   "cell_type": "code",
   "execution_count": 39,
   "metadata": {},
   "outputs": [],
   "source": [
    "lista= gen.lista_fechas"
   ]
  },
  {
   "cell_type": "code",
   "execution_count": 40,
   "metadata": {},
   "outputs": [],
   "source": [
    "def serie_temporal(lista_temporal: list, init_value: float, final_value: float) -> any:\n",
    "    pass\n"
   ]
  }
 ],
 "metadata": {
  "kernelspec": {
   "display_name": "Python 3",
   "language": "python",
   "name": "python3"
  },
  "language_info": {
   "codemirror_mode": {
    "name": "ipython",
    "version": 3
   },
   "file_extension": ".py",
   "mimetype": "text/x-python",
   "name": "python",
   "nbconvert_exporter": "python",
   "pygments_lexer": "ipython3",
   "version": "3.11.4"
  }
 },
 "nbformat": 4,
 "nbformat_minor": 2
}
